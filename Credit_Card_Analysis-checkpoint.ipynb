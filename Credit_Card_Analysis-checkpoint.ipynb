{
 "cells": [
  {
   "cell_type": "markdown",
   "id": "8d68789e-c2c4-43f5-a53e-ca28b801132c",
   "metadata": {},
   "source": [
    "**<h1><center>Credit Card Approval</center></h1>**"
   ]
  },
  {
   "cell_type": "markdown",
   "id": "3534d557-5b36-4a45-973b-057a46d992fa",
   "metadata": {},
   "source": [
    "**<h3>Import Libraries</h3>**"
   ]
  },
  {
   "cell_type": "code",
   "execution_count": 61,
   "id": "9b19930b-3cbd-4966-95d2-168838d2a07d",
   "metadata": {
    "tags": []
   },
   "outputs": [],
   "source": [
    "import pandas as pd\n",
    "import seaborn as sns\n",
    "import matplotlib.pyplot as plt \n",
    "import numpy as np\n",
    "from sklearn.neighbors import KNeighborsClassifier\n",
    "from sklearn.model_selection import train_test_split, cross_val_score, KFold\n",
    "from sklearn.metrics import accuracy_score, confusion_matrix, classification_report\n",
    "from sklearn.linear_model import LogisticRegression\n",
    "from sklearn.tree import DecisionTreeClassifier\n",
    "from sklearn.ensemble import RandomForestClassifier, VotingClassifier\n",
    "import xgboost as xgb\n",
    "from sklearn.preprocessing import StandardScaler\n"
   ]
  },
  {
   "cell_type": "markdown",
   "id": "f09cfa41-f93d-4d9a-925d-bb3dd1f67409",
   "metadata": {},
   "source": [
    "**<h3>Load Dataset</h3>**"
   ]
  },
  {
   "cell_type": "code",
   "execution_count": 62,
   "id": "ea700176-2301-4350-9bbb-d534160d3d5e",
   "metadata": {
    "tags": []
   },
   "outputs": [
    {
     "data": {
      "text/html": [
       "<div>\n",
       "<style scoped>\n",
       "    .dataframe tbody tr th:only-of-type {\n",
       "        vertical-align: middle;\n",
       "    }\n",
       "\n",
       "    .dataframe tbody tr th {\n",
       "        vertical-align: top;\n",
       "    }\n",
       "\n",
       "    .dataframe thead th {\n",
       "        text-align: right;\n",
       "    }\n",
       "</style>\n",
       "<table border=\"1\" class=\"dataframe\">\n",
       "  <thead>\n",
       "    <tr style=\"text-align: right;\">\n",
       "      <th></th>\n",
       "      <th>person_age</th>\n",
       "      <th>person_income</th>\n",
       "      <th>person_home_ownership</th>\n",
       "      <th>person_emp_length</th>\n",
       "      <th>loan_intent</th>\n",
       "      <th>loan_amnt</th>\n",
       "      <th>loan_int_rate</th>\n",
       "      <th>loan_status</th>\n",
       "      <th>loan_percent_income</th>\n",
       "      <th>cb_person_default_on_file</th>\n",
       "      <th>cb_person_cred_hist_length</th>\n",
       "    </tr>\n",
       "  </thead>\n",
       "  <tbody>\n",
       "    <tr>\n",
       "      <th>0</th>\n",
       "      <td>22</td>\n",
       "      <td>59000</td>\n",
       "      <td>RENT</td>\n",
       "      <td>123.0</td>\n",
       "      <td>PERSONAL</td>\n",
       "      <td>35000</td>\n",
       "      <td>16.02</td>\n",
       "      <td>1</td>\n",
       "      <td>0.59</td>\n",
       "      <td>Y</td>\n",
       "      <td>3</td>\n",
       "    </tr>\n",
       "    <tr>\n",
       "      <th>1</th>\n",
       "      <td>21</td>\n",
       "      <td>9600</td>\n",
       "      <td>OWN</td>\n",
       "      <td>5.0</td>\n",
       "      <td>EDUCATION</td>\n",
       "      <td>1000</td>\n",
       "      <td>11.14</td>\n",
       "      <td>0</td>\n",
       "      <td>0.10</td>\n",
       "      <td>N</td>\n",
       "      <td>2</td>\n",
       "    </tr>\n",
       "    <tr>\n",
       "      <th>2</th>\n",
       "      <td>25</td>\n",
       "      <td>9600</td>\n",
       "      <td>MORTGAGE</td>\n",
       "      <td>1.0</td>\n",
       "      <td>MEDICAL</td>\n",
       "      <td>5500</td>\n",
       "      <td>12.87</td>\n",
       "      <td>1</td>\n",
       "      <td>0.57</td>\n",
       "      <td>N</td>\n",
       "      <td>3</td>\n",
       "    </tr>\n",
       "    <tr>\n",
       "      <th>3</th>\n",
       "      <td>23</td>\n",
       "      <td>65500</td>\n",
       "      <td>RENT</td>\n",
       "      <td>4.0</td>\n",
       "      <td>MEDICAL</td>\n",
       "      <td>35000</td>\n",
       "      <td>15.23</td>\n",
       "      <td>1</td>\n",
       "      <td>0.53</td>\n",
       "      <td>N</td>\n",
       "      <td>2</td>\n",
       "    </tr>\n",
       "    <tr>\n",
       "      <th>4</th>\n",
       "      <td>24</td>\n",
       "      <td>54400</td>\n",
       "      <td>RENT</td>\n",
       "      <td>8.0</td>\n",
       "      <td>MEDICAL</td>\n",
       "      <td>35000</td>\n",
       "      <td>14.27</td>\n",
       "      <td>1</td>\n",
       "      <td>0.55</td>\n",
       "      <td>Y</td>\n",
       "      <td>4</td>\n",
       "    </tr>\n",
       "  </tbody>\n",
       "</table>\n",
       "</div>"
      ],
      "text/plain": [
       "   person_age  person_income person_home_ownership  person_emp_length  \\\n",
       "0          22          59000                  RENT              123.0   \n",
       "1          21           9600                   OWN                5.0   \n",
       "2          25           9600              MORTGAGE                1.0   \n",
       "3          23          65500                  RENT                4.0   \n",
       "4          24          54400                  RENT                8.0   \n",
       "\n",
       "  loan_intent  loan_amnt  loan_int_rate  loan_status  loan_percent_income  \\\n",
       "0    PERSONAL      35000          16.02            1                 0.59   \n",
       "1   EDUCATION       1000          11.14            0                 0.10   \n",
       "2     MEDICAL       5500          12.87            1                 0.57   \n",
       "3     MEDICAL      35000          15.23            1                 0.53   \n",
       "4     MEDICAL      35000          14.27            1                 0.55   \n",
       "\n",
       "  cb_person_default_on_file  cb_person_cred_hist_length  \n",
       "0                         Y                           3  \n",
       "1                         N                           2  \n",
       "2                         N                           3  \n",
       "3                         N                           2  \n",
       "4                         Y                           4  "
      ]
     },
     "execution_count": 62,
     "metadata": {},
     "output_type": "execute_result"
    }
   ],
   "source": [
    "#load the dataset\n",
    "df = pd.read_csv('credit_risk_dataset.csv')\n",
    "\n",
    "# Display the first few rows of the dataset\n",
    "df.head()"
   ]
  },
  {
   "cell_type": "markdown",
   "id": "22ab55fa-8bc4-466e-bfcd-519adc435b17",
   "metadata": {},
   "source": [
    "**<h3>Dataset Overview</h3>**"
   ]
  },
  {
   "cell_type": "code",
   "execution_count": 63,
   "id": "a02c8bed-9fca-4d9a-8331-69bc2d6680fc",
   "metadata": {
    "tags": []
   },
   "outputs": [
    {
     "data": {
      "text/plain": [
       "(32581, 11)"
      ]
     },
     "execution_count": 63,
     "metadata": {},
     "output_type": "execute_result"
    }
   ],
   "source": [
    "# Check the size of the dataset\n",
    "df.shape"
   ]
  },
  {
   "cell_type": "code",
   "execution_count": 64,
   "id": "5122d742-f725-42db-bab1-b88749b7c67e",
   "metadata": {
    "tags": []
   },
   "outputs": [
    {
     "name": "stdout",
     "output_type": "stream",
     "text": [
      "<class 'pandas.core.frame.DataFrame'>\n",
      "RangeIndex: 32581 entries, 0 to 32580\n",
      "Data columns (total 11 columns):\n",
      " #   Column                      Non-Null Count  Dtype  \n",
      "---  ------                      --------------  -----  \n",
      " 0   person_age                  32581 non-null  int64  \n",
      " 1   person_income               32581 non-null  int64  \n",
      " 2   person_home_ownership       32581 non-null  object \n",
      " 3   person_emp_length           31686 non-null  float64\n",
      " 4   loan_intent                 32581 non-null  object \n",
      " 5   loan_amnt                   32581 non-null  int64  \n",
      " 6   loan_int_rate               29465 non-null  float64\n",
      " 7   loan_status                 32581 non-null  int64  \n",
      " 8   loan_percent_income         32581 non-null  float64\n",
      " 9   cb_person_default_on_file   32581 non-null  object \n",
      " 10  cb_person_cred_hist_length  32581 non-null  int64  \n",
      "dtypes: float64(3), int64(5), object(3)\n",
      "memory usage: 2.7+ MB\n"
     ]
    }
   ],
   "source": [
    "# Display basic information about the dataset\n",
    "df.info()"
   ]
  },
  {
   "cell_type": "markdown",
   "id": "ad11304c-fd3e-48c8-890c-3062dd7292b0",
   "metadata": {},
   "source": [
    "**<h3>Check and Handle Missing Values</h3>**"
   ]
  },
  {
   "cell_type": "code",
   "execution_count": 65,
   "id": "2c0658de-0506-477d-b901-947bb16351cc",
   "metadata": {
    "tags": []
   },
   "outputs": [
    {
     "data": {
      "text/plain": [
       "person_age                       0\n",
       "person_income                    0\n",
       "person_home_ownership            0\n",
       "person_emp_length              895\n",
       "loan_intent                      0\n",
       "loan_amnt                        0\n",
       "loan_int_rate                 3116\n",
       "loan_status                      0\n",
       "loan_percent_income              0\n",
       "cb_person_default_on_file        0\n",
       "cb_person_cred_hist_length       0\n",
       "dtype: int64"
      ]
     },
     "execution_count": 65,
     "metadata": {},
     "output_type": "execute_result"
    }
   ],
   "source": [
    "# Check for missing values in the dataset\n",
    "df.isnull().sum()"
   ]
  },
  {
   "cell_type": "code",
   "execution_count": 66,
   "id": "7099a9cc-6bf8-4608-9a4f-faf08a2813b8",
   "metadata": {
    "tags": []
   },
   "outputs": [
    {
     "name": "stdout",
     "output_type": "stream",
     "text": [
      "Missing values are written as nan in column person_emp_length\n",
      "Missing values are written as nan in column loan_int_rate\n"
     ]
    }
   ],
   "source": [
    "\n",
    "#check if missing values are indicated as nan\n",
    "column = ['person_age', 'person_income', 'person_home_ownership', 'person_emp_length', 'loan_intent', 'loan_amnt', 'loan_int_rate', 'loan_status', 'loan_percent_income', 'cb_person_default_on_file', 'cb_person_cred_hist_length']\n",
    "\n",
    "for missing_nan in column:\n",
    "    if df[missing_nan].isna().any():\n",
    "        print(f'Missing values are written as nan in column {missing_nan}')\n"
   ]
  },
  {
   "cell_type": "code",
   "execution_count": 67,
   "id": "157bbd4b-274f-4a6e-8258-57e05871c474",
   "metadata": {
    "tags": []
   },
   "outputs": [],
   "source": [
    "\n",
    "# Replace NaN values in 'person_emp_length' with 0\n",
    "df['person_emp_length'] = df['person_emp_length'].fillna(0)\n"
   ]
  },
  {
   "cell_type": "code",
   "execution_count": 69,
   "id": "0bffe31d-0f9c-4d42-8bac-c51ce2ee62de",
   "metadata": {
    "tags": []
   },
   "outputs": [],
   "source": [
    "# Impute missing target values with the mean\n",
    "loan_int_rate_mean = df['loan_int_rate'].median()\n",
    "df['loan_int_rate'].fillna(loan_int_rate_mean, inplace=True)"
   ]
  },
  {
   "cell_type": "code",
   "execution_count": 70,
   "id": "39f68edd-cdf2-4913-a751-6c9b41aa6cf8",
   "metadata": {
    "tags": []
   },
   "outputs": [
    {
     "data": {
      "text/plain": [
       "person_age                    0\n",
       "person_income                 0\n",
       "person_home_ownership         0\n",
       "person_emp_length             0\n",
       "loan_intent                   0\n",
       "loan_amnt                     0\n",
       "loan_int_rate                 0\n",
       "loan_status                   0\n",
       "loan_percent_income           0\n",
       "cb_person_default_on_file     0\n",
       "cb_person_cred_hist_length    0\n",
       "dtype: int64"
      ]
     },
     "execution_count": 70,
     "metadata": {},
     "output_type": "execute_result"
    }
   ],
   "source": [
    "# Verify that missing values are handled\n",
    "df.isnull().sum()"
   ]
  },
  {
   "cell_type": "markdown",
   "id": "e1abf5ee-e1ca-4016-8317-ce070a78b514",
   "metadata": {},
   "source": [
    "**<h3>Encoding Categorical Values</h3>**"
   ]
  },
  {
   "cell_type": "code",
   "execution_count": 71,
   "id": "97e350c9-d862-4f09-9a40-de258f163d06",
   "metadata": {
    "tags": []
   },
   "outputs": [
    {
     "name": "stdout",
     "output_type": "stream",
     "text": [
      "<class 'pandas.core.frame.DataFrame'>\n",
      "RangeIndex: 32581 entries, 0 to 32580\n",
      "Data columns (total 11 columns):\n",
      " #   Column                      Non-Null Count  Dtype  \n",
      "---  ------                      --------------  -----  \n",
      " 0   person_age                  32581 non-null  int64  \n",
      " 1   person_income               32581 non-null  int64  \n",
      " 2   person_home_ownership       32581 non-null  object \n",
      " 3   person_emp_length           32581 non-null  float64\n",
      " 4   loan_intent                 32581 non-null  object \n",
      " 5   loan_amnt                   32581 non-null  int64  \n",
      " 6   loan_int_rate               32581 non-null  float64\n",
      " 7   loan_status                 32581 non-null  int64  \n",
      " 8   loan_percent_income         32581 non-null  float64\n",
      " 9   cb_person_default_on_file   32581 non-null  object \n",
      " 10  cb_person_cred_hist_length  32581 non-null  int64  \n",
      "dtypes: float64(3), int64(5), object(3)\n",
      "memory usage: 2.7+ MB\n"
     ]
    }
   ],
   "source": [
    "df.info()"
   ]
  },
  {
   "cell_type": "markdown",
   "id": "dafde436-8d3d-4878-a1a4-bbfaa5c067f9",
   "metadata": {},
   "source": [
    "<h3><i>From the dataset info, person_home_ownership, loan_intent & cb_person_default_on_file colums are categorical values</i></h3>"
   ]
  },
  {
   "cell_type": "code",
   "execution_count": 72,
   "id": "2be23589-6686-43e1-b53e-e64ee354721c",
   "metadata": {
    "tags": []
   },
   "outputs": [
    {
     "data": {
      "text/plain": [
       "array(['RENT', 'OWN', 'MORTGAGE', 'OTHER'], dtype=object)"
      ]
     },
     "execution_count": 72,
     "metadata": {},
     "output_type": "execute_result"
    }
   ],
   "source": [
    "#check for categorical unique values\n",
    "df['person_home_ownership'].unique()"
   ]
  },
  {
   "cell_type": "code",
   "execution_count": 73,
   "id": "ba07cfc1-0a80-4dfb-8205-662808aed9ba",
   "metadata": {
    "tags": []
   },
   "outputs": [],
   "source": [
    "\n",
    "#create a dictionary to map the categorical value to numeric value equivalent\n",
    "ownership = {'RENT':1, 'OWN':2, 'MORTGAGE':3, 'OTHER':4}\n",
    "\n",
    "## Replace the categorical values in 'person_home_ownership' with their numeric equivalents\n",
    "df['person_home_ownership'] = df['person_home_ownership'].replace(ownership)"
   ]
  },
  {
   "cell_type": "code",
   "execution_count": 74,
   "id": "423f4c52-ad8e-4084-ad86-8f3fd51d827d",
   "metadata": {
    "tags": []
   },
   "outputs": [
    {
     "data": {
      "text/html": [
       "<div>\n",
       "<style scoped>\n",
       "    .dataframe tbody tr th:only-of-type {\n",
       "        vertical-align: middle;\n",
       "    }\n",
       "\n",
       "    .dataframe tbody tr th {\n",
       "        vertical-align: top;\n",
       "    }\n",
       "\n",
       "    .dataframe thead th {\n",
       "        text-align: right;\n",
       "    }\n",
       "</style>\n",
       "<table border=\"1\" class=\"dataframe\">\n",
       "  <thead>\n",
       "    <tr style=\"text-align: right;\">\n",
       "      <th></th>\n",
       "      <th>person_age</th>\n",
       "      <th>person_income</th>\n",
       "      <th>person_home_ownership</th>\n",
       "      <th>person_emp_length</th>\n",
       "      <th>loan_intent</th>\n",
       "      <th>loan_amnt</th>\n",
       "      <th>loan_int_rate</th>\n",
       "      <th>loan_status</th>\n",
       "      <th>loan_percent_income</th>\n",
       "      <th>cb_person_default_on_file</th>\n",
       "      <th>cb_person_cred_hist_length</th>\n",
       "    </tr>\n",
       "  </thead>\n",
       "  <tbody>\n",
       "    <tr>\n",
       "      <th>0</th>\n",
       "      <td>22</td>\n",
       "      <td>59000</td>\n",
       "      <td>1</td>\n",
       "      <td>123.0</td>\n",
       "      <td>PERSONAL</td>\n",
       "      <td>35000</td>\n",
       "      <td>16.02</td>\n",
       "      <td>1</td>\n",
       "      <td>0.59</td>\n",
       "      <td>Y</td>\n",
       "      <td>3</td>\n",
       "    </tr>\n",
       "    <tr>\n",
       "      <th>1</th>\n",
       "      <td>21</td>\n",
       "      <td>9600</td>\n",
       "      <td>2</td>\n",
       "      <td>5.0</td>\n",
       "      <td>EDUCATION</td>\n",
       "      <td>1000</td>\n",
       "      <td>11.14</td>\n",
       "      <td>0</td>\n",
       "      <td>0.10</td>\n",
       "      <td>N</td>\n",
       "      <td>2</td>\n",
       "    </tr>\n",
       "    <tr>\n",
       "      <th>2</th>\n",
       "      <td>25</td>\n",
       "      <td>9600</td>\n",
       "      <td>3</td>\n",
       "      <td>1.0</td>\n",
       "      <td>MEDICAL</td>\n",
       "      <td>5500</td>\n",
       "      <td>12.87</td>\n",
       "      <td>1</td>\n",
       "      <td>0.57</td>\n",
       "      <td>N</td>\n",
       "      <td>3</td>\n",
       "    </tr>\n",
       "    <tr>\n",
       "      <th>3</th>\n",
       "      <td>23</td>\n",
       "      <td>65500</td>\n",
       "      <td>1</td>\n",
       "      <td>4.0</td>\n",
       "      <td>MEDICAL</td>\n",
       "      <td>35000</td>\n",
       "      <td>15.23</td>\n",
       "      <td>1</td>\n",
       "      <td>0.53</td>\n",
       "      <td>N</td>\n",
       "      <td>2</td>\n",
       "    </tr>\n",
       "    <tr>\n",
       "      <th>4</th>\n",
       "      <td>24</td>\n",
       "      <td>54400</td>\n",
       "      <td>1</td>\n",
       "      <td>8.0</td>\n",
       "      <td>MEDICAL</td>\n",
       "      <td>35000</td>\n",
       "      <td>14.27</td>\n",
       "      <td>1</td>\n",
       "      <td>0.55</td>\n",
       "      <td>Y</td>\n",
       "      <td>4</td>\n",
       "    </tr>\n",
       "  </tbody>\n",
       "</table>\n",
       "</div>"
      ],
      "text/plain": [
       "   person_age  person_income  person_home_ownership  person_emp_length  \\\n",
       "0          22          59000                      1              123.0   \n",
       "1          21           9600                      2                5.0   \n",
       "2          25           9600                      3                1.0   \n",
       "3          23          65500                      1                4.0   \n",
       "4          24          54400                      1                8.0   \n",
       "\n",
       "  loan_intent  loan_amnt  loan_int_rate  loan_status  loan_percent_income  \\\n",
       "0    PERSONAL      35000          16.02            1                 0.59   \n",
       "1   EDUCATION       1000          11.14            0                 0.10   \n",
       "2     MEDICAL       5500          12.87            1                 0.57   \n",
       "3     MEDICAL      35000          15.23            1                 0.53   \n",
       "4     MEDICAL      35000          14.27            1                 0.55   \n",
       "\n",
       "  cb_person_default_on_file  cb_person_cred_hist_length  \n",
       "0                         Y                           3  \n",
       "1                         N                           2  \n",
       "2                         N                           3  \n",
       "3                         N                           2  \n",
       "4                         Y                           4  "
      ]
     },
     "execution_count": 74,
     "metadata": {},
     "output_type": "execute_result"
    }
   ],
   "source": [
    "#check if the change has been effected\n",
    "\n",
    "df.head()"
   ]
  },
  {
   "cell_type": "code",
   "execution_count": 75,
   "id": "a3e68c1b-3186-4ba2-83fc-fb982ac8b88f",
   "metadata": {
    "tags": []
   },
   "outputs": [
    {
     "data": {
      "text/plain": [
       "array(['PERSONAL', 'EDUCATION', 'MEDICAL', 'VENTURE', 'HOMEIMPROVEMENT',\n",
       "       'DEBTCONSOLIDATION'], dtype=object)"
      ]
     },
     "execution_count": 75,
     "metadata": {},
     "output_type": "execute_result"
    }
   ],
   "source": [
    "#check for loan_intent categorical column unique value\n",
    "df['loan_intent'].unique()"
   ]
  },
  {
   "cell_type": "code",
   "execution_count": 76,
   "id": "89240595-401d-4608-9600-8cba92cb35ac",
   "metadata": {
    "tags": []
   },
   "outputs": [],
   "source": [
    "\n",
    "#create a dictionary to map the categorical value to numeric value equivalent\n",
    "loan_intent = {'PERSONAL':1, 'EDUCATION':2, 'MEDICAL':3, 'VENTURE':4, 'HOMEIMPROVEMENT':5,\n",
    "       'DEBTCONSOLIDATION':6}\n",
    "\n",
    "## Replace the categorical values in 'loan_intent' with their numeric equivalents\n",
    "df['loan_intent'] = df['loan_intent'].replace(loan_intent)"
   ]
  },
  {
   "cell_type": "code",
   "execution_count": 77,
   "id": "f4206ce5-f842-432d-8d78-99ca6ab60eff",
   "metadata": {
    "tags": []
   },
   "outputs": [
    {
     "data": {
      "text/html": [
       "<div>\n",
       "<style scoped>\n",
       "    .dataframe tbody tr th:only-of-type {\n",
       "        vertical-align: middle;\n",
       "    }\n",
       "\n",
       "    .dataframe tbody tr th {\n",
       "        vertical-align: top;\n",
       "    }\n",
       "\n",
       "    .dataframe thead th {\n",
       "        text-align: right;\n",
       "    }\n",
       "</style>\n",
       "<table border=\"1\" class=\"dataframe\">\n",
       "  <thead>\n",
       "    <tr style=\"text-align: right;\">\n",
       "      <th></th>\n",
       "      <th>person_age</th>\n",
       "      <th>person_income</th>\n",
       "      <th>person_home_ownership</th>\n",
       "      <th>person_emp_length</th>\n",
       "      <th>loan_intent</th>\n",
       "      <th>loan_amnt</th>\n",
       "      <th>loan_int_rate</th>\n",
       "      <th>loan_status</th>\n",
       "      <th>loan_percent_income</th>\n",
       "      <th>cb_person_default_on_file</th>\n",
       "      <th>cb_person_cred_hist_length</th>\n",
       "    </tr>\n",
       "  </thead>\n",
       "  <tbody>\n",
       "    <tr>\n",
       "      <th>0</th>\n",
       "      <td>22</td>\n",
       "      <td>59000</td>\n",
       "      <td>1</td>\n",
       "      <td>123.0</td>\n",
       "      <td>1</td>\n",
       "      <td>35000</td>\n",
       "      <td>16.02</td>\n",
       "      <td>1</td>\n",
       "      <td>0.59</td>\n",
       "      <td>Y</td>\n",
       "      <td>3</td>\n",
       "    </tr>\n",
       "    <tr>\n",
       "      <th>1</th>\n",
       "      <td>21</td>\n",
       "      <td>9600</td>\n",
       "      <td>2</td>\n",
       "      <td>5.0</td>\n",
       "      <td>2</td>\n",
       "      <td>1000</td>\n",
       "      <td>11.14</td>\n",
       "      <td>0</td>\n",
       "      <td>0.10</td>\n",
       "      <td>N</td>\n",
       "      <td>2</td>\n",
       "    </tr>\n",
       "    <tr>\n",
       "      <th>2</th>\n",
       "      <td>25</td>\n",
       "      <td>9600</td>\n",
       "      <td>3</td>\n",
       "      <td>1.0</td>\n",
       "      <td>3</td>\n",
       "      <td>5500</td>\n",
       "      <td>12.87</td>\n",
       "      <td>1</td>\n",
       "      <td>0.57</td>\n",
       "      <td>N</td>\n",
       "      <td>3</td>\n",
       "    </tr>\n",
       "    <tr>\n",
       "      <th>3</th>\n",
       "      <td>23</td>\n",
       "      <td>65500</td>\n",
       "      <td>1</td>\n",
       "      <td>4.0</td>\n",
       "      <td>3</td>\n",
       "      <td>35000</td>\n",
       "      <td>15.23</td>\n",
       "      <td>1</td>\n",
       "      <td>0.53</td>\n",
       "      <td>N</td>\n",
       "      <td>2</td>\n",
       "    </tr>\n",
       "    <tr>\n",
       "      <th>4</th>\n",
       "      <td>24</td>\n",
       "      <td>54400</td>\n",
       "      <td>1</td>\n",
       "      <td>8.0</td>\n",
       "      <td>3</td>\n",
       "      <td>35000</td>\n",
       "      <td>14.27</td>\n",
       "      <td>1</td>\n",
       "      <td>0.55</td>\n",
       "      <td>Y</td>\n",
       "      <td>4</td>\n",
       "    </tr>\n",
       "  </tbody>\n",
       "</table>\n",
       "</div>"
      ],
      "text/plain": [
       "   person_age  person_income  person_home_ownership  person_emp_length  \\\n",
       "0          22          59000                      1              123.0   \n",
       "1          21           9600                      2                5.0   \n",
       "2          25           9600                      3                1.0   \n",
       "3          23          65500                      1                4.0   \n",
       "4          24          54400                      1                8.0   \n",
       "\n",
       "   loan_intent  loan_amnt  loan_int_rate  loan_status  loan_percent_income  \\\n",
       "0            1      35000          16.02            1                 0.59   \n",
       "1            2       1000          11.14            0                 0.10   \n",
       "2            3       5500          12.87            1                 0.57   \n",
       "3            3      35000          15.23            1                 0.53   \n",
       "4            3      35000          14.27            1                 0.55   \n",
       "\n",
       "  cb_person_default_on_file  cb_person_cred_hist_length  \n",
       "0                         Y                           3  \n",
       "1                         N                           2  \n",
       "2                         N                           3  \n",
       "3                         N                           2  \n",
       "4                         Y                           4  "
      ]
     },
     "execution_count": 77,
     "metadata": {},
     "output_type": "execute_result"
    }
   ],
   "source": [
    "#check if the change has been effected, display dataset\n",
    "df.head()"
   ]
  },
  {
   "cell_type": "code",
   "execution_count": 78,
   "id": "a445796f-6a32-4a08-bfea-43472d7a7750",
   "metadata": {
    "tags": []
   },
   "outputs": [],
   "source": [
    "#create a dictionary to map the categorical value to numeric value equivalent\n",
    "cb ={'Y':1, 'N':0}\n",
    "\n",
    "#Replace the categorical values in 'loan_intent' with their numeric equivalents\n",
    "df['cb_person_default_on_file'] = df['cb_person_default_on_file'].replace(cb)"
   ]
  },
  {
   "cell_type": "code",
   "execution_count": 80,
   "id": "4e051612-cf10-47b9-921e-7ae150866258",
   "metadata": {
    "tags": []
   },
   "outputs": [
    {
     "data": {
      "text/html": [
       "<div>\n",
       "<style scoped>\n",
       "    .dataframe tbody tr th:only-of-type {\n",
       "        vertical-align: middle;\n",
       "    }\n",
       "\n",
       "    .dataframe tbody tr th {\n",
       "        vertical-align: top;\n",
       "    }\n",
       "\n",
       "    .dataframe thead th {\n",
       "        text-align: right;\n",
       "    }\n",
       "</style>\n",
       "<table border=\"1\" class=\"dataframe\">\n",
       "  <thead>\n",
       "    <tr style=\"text-align: right;\">\n",
       "      <th></th>\n",
       "      <th>person_age</th>\n",
       "      <th>person_income</th>\n",
       "      <th>person_home_ownership</th>\n",
       "      <th>person_emp_length</th>\n",
       "      <th>loan_intent</th>\n",
       "      <th>loan_amnt</th>\n",
       "      <th>loan_int_rate</th>\n",
       "      <th>loan_status</th>\n",
       "      <th>loan_percent_income</th>\n",
       "      <th>cb_person_default_on_file</th>\n",
       "      <th>cb_person_cred_hist_length</th>\n",
       "    </tr>\n",
       "  </thead>\n",
       "  <tbody>\n",
       "    <tr>\n",
       "      <th>0</th>\n",
       "      <td>22</td>\n",
       "      <td>59000</td>\n",
       "      <td>1</td>\n",
       "      <td>123.0</td>\n",
       "      <td>1</td>\n",
       "      <td>35000</td>\n",
       "      <td>16.02</td>\n",
       "      <td>1</td>\n",
       "      <td>0.59</td>\n",
       "      <td>1</td>\n",
       "      <td>3</td>\n",
       "    </tr>\n",
       "    <tr>\n",
       "      <th>1</th>\n",
       "      <td>21</td>\n",
       "      <td>9600</td>\n",
       "      <td>2</td>\n",
       "      <td>5.0</td>\n",
       "      <td>2</td>\n",
       "      <td>1000</td>\n",
       "      <td>11.14</td>\n",
       "      <td>0</td>\n",
       "      <td>0.10</td>\n",
       "      <td>0</td>\n",
       "      <td>2</td>\n",
       "    </tr>\n",
       "    <tr>\n",
       "      <th>2</th>\n",
       "      <td>25</td>\n",
       "      <td>9600</td>\n",
       "      <td>3</td>\n",
       "      <td>1.0</td>\n",
       "      <td>3</td>\n",
       "      <td>5500</td>\n",
       "      <td>12.87</td>\n",
       "      <td>1</td>\n",
       "      <td>0.57</td>\n",
       "      <td>0</td>\n",
       "      <td>3</td>\n",
       "    </tr>\n",
       "    <tr>\n",
       "      <th>3</th>\n",
       "      <td>23</td>\n",
       "      <td>65500</td>\n",
       "      <td>1</td>\n",
       "      <td>4.0</td>\n",
       "      <td>3</td>\n",
       "      <td>35000</td>\n",
       "      <td>15.23</td>\n",
       "      <td>1</td>\n",
       "      <td>0.53</td>\n",
       "      <td>0</td>\n",
       "      <td>2</td>\n",
       "    </tr>\n",
       "    <tr>\n",
       "      <th>4</th>\n",
       "      <td>24</td>\n",
       "      <td>54400</td>\n",
       "      <td>1</td>\n",
       "      <td>8.0</td>\n",
       "      <td>3</td>\n",
       "      <td>35000</td>\n",
       "      <td>14.27</td>\n",
       "      <td>1</td>\n",
       "      <td>0.55</td>\n",
       "      <td>1</td>\n",
       "      <td>4</td>\n",
       "    </tr>\n",
       "  </tbody>\n",
       "</table>\n",
       "</div>"
      ],
      "text/plain": [
       "   person_age  person_income  person_home_ownership  person_emp_length  \\\n",
       "0          22          59000                      1              123.0   \n",
       "1          21           9600                      2                5.0   \n",
       "2          25           9600                      3                1.0   \n",
       "3          23          65500                      1                4.0   \n",
       "4          24          54400                      1                8.0   \n",
       "\n",
       "   loan_intent  loan_amnt  loan_int_rate  loan_status  loan_percent_income  \\\n",
       "0            1      35000          16.02            1                 0.59   \n",
       "1            2       1000          11.14            0                 0.10   \n",
       "2            3       5500          12.87            1                 0.57   \n",
       "3            3      35000          15.23            1                 0.53   \n",
       "4            3      35000          14.27            1                 0.55   \n",
       "\n",
       "   cb_person_default_on_file  cb_person_cred_hist_length  \n",
       "0                          1                           3  \n",
       "1                          0                           2  \n",
       "2                          0                           3  \n",
       "3                          0                           2  \n",
       "4                          1                           4  "
      ]
     },
     "execution_count": 80,
     "metadata": {},
     "output_type": "execute_result"
    }
   ],
   "source": [
    "#check if the change has been effected, display dataset\n",
    "df.head()"
   ]
  },
  {
   "cell_type": "markdown",
   "id": "57aa50bb-8722-4477-9976-edda061cd020",
   "metadata": {},
   "source": [
    "**<h3> Correlation Matrix</h3>**"
   ]
  },
  {
   "cell_type": "code",
   "execution_count": 81,
   "id": "82be4c20-fa72-4e9c-a930-8ce9a3bc5216",
   "metadata": {
    "tags": []
   },
   "outputs": [
    {
     "data": {
      "image/png": "[encoded data removed]",
      "text/plain": [
       "<Figure size 1500x1000 with 2 Axes>"
      ]
     },
     "metadata": {},
     "output_type": "display_data"
    }
   ],
   "source": [
    "import seaborn as sns\n",
    "import matplotlib.pyplot as plt\n",
    "\n",
    "# Check for linear relationships using a correlation matrix\n",
    "plt.figure(figsize=(15,10))\n",
    "correlation_matrix = df.corr()\n",
    "sns.heatmap(correlation_matrix, annot=True, cmap='coolwarm')\n",
    "plt.show()"
   ]
  },
  {
   "cell_type": "markdown",
   "id": "f746a5c0-646b-41da-b9c4-0ab48af2c58a",
   "metadata": {},
   "source": [
    "**<h3>Save and Reload Transformed Dataset</h3>**"
   ]
  },
  {
   "cell_type": "code",
   "execution_count": 82,
   "id": "e2b91f87-2649-4b8c-9ebf-0ff703e35ca6",
   "metadata": {
    "tags": []
   },
   "outputs": [],
   "source": [
    "# Save the transformed file as a CSV file\n",
    "df.to_csv('credit_risk.csv', index=False)\n"
   ]
  },
  {
   "cell_type": "code",
   "execution_count": 83,
   "id": "e13565bd-2376-4579-bd39-20eb9a2b944c",
   "metadata": {
    "tags": []
   },
   "outputs": [],
   "source": [
    "# Reload the transformed dataset\n",
    "df = pd.read_csv('credit_risk.csv')"
   ]
  },
  {
   "cell_type": "code",
   "execution_count": 84,
   "id": "347b97f9-93ac-429f-b3c2-2377ab6b7126",
   "metadata": {
    "tags": []
   },
   "outputs": [
    {
     "data": {
      "text/html": [
       "<div>\n",
       "<style scoped>\n",
       "    .dataframe tbody tr th:only-of-type {\n",
       "        vertical-align: middle;\n",
       "    }\n",
       "\n",
       "    .dataframe tbody tr th {\n",
       "        vertical-align: top;\n",
       "    }\n",
       "\n",
       "    .dataframe thead th {\n",
       "        text-align: right;\n",
       "    }\n",
       "</style>\n",
       "<table border=\"1\" class=\"dataframe\">\n",
       "  <thead>\n",
       "    <tr style=\"text-align: right;\">\n",
       "      <th></th>\n",
       "      <th>person_age</th>\n",
       "      <th>person_income</th>\n",
       "      <th>person_home_ownership</th>\n",
       "      <th>person_emp_length</th>\n",
       "      <th>loan_intent</th>\n",
       "      <th>loan_amnt</th>\n",
       "      <th>loan_int_rate</th>\n",
       "      <th>loan_status</th>\n",
       "      <th>loan_percent_income</th>\n",
       "      <th>cb_person_default_on_file</th>\n",
       "      <th>cb_person_cred_hist_length</th>\n",
       "    </tr>\n",
       "  </thead>\n",
       "  <tbody>\n",
       "    <tr>\n",
       "      <th>0</th>\n",
       "      <td>22</td>\n",
       "      <td>59000</td>\n",
       "      <td>1</td>\n",
       "      <td>123.0</td>\n",
       "      <td>1</td>\n",
       "      <td>35000</td>\n",
       "      <td>16.02</td>\n",
       "      <td>1</td>\n",
       "      <td>0.59</td>\n",
       "      <td>1</td>\n",
       "      <td>3</td>\n",
       "    </tr>\n",
       "    <tr>\n",
       "      <th>1</th>\n",
       "      <td>21</td>\n",
       "      <td>9600</td>\n",
       "      <td>2</td>\n",
       "      <td>5.0</td>\n",
       "      <td>2</td>\n",
       "      <td>1000</td>\n",
       "      <td>11.14</td>\n",
       "      <td>0</td>\n",
       "      <td>0.10</td>\n",
       "      <td>0</td>\n",
       "      <td>2</td>\n",
       "    </tr>\n",
       "    <tr>\n",
       "      <th>2</th>\n",
       "      <td>25</td>\n",
       "      <td>9600</td>\n",
       "      <td>3</td>\n",
       "      <td>1.0</td>\n",
       "      <td>3</td>\n",
       "      <td>5500</td>\n",
       "      <td>12.87</td>\n",
       "      <td>1</td>\n",
       "      <td>0.57</td>\n",
       "      <td>0</td>\n",
       "      <td>3</td>\n",
       "    </tr>\n",
       "    <tr>\n",
       "      <th>3</th>\n",
       "      <td>23</td>\n",
       "      <td>65500</td>\n",
       "      <td>1</td>\n",
       "      <td>4.0</td>\n",
       "      <td>3</td>\n",
       "      <td>35000</td>\n",
       "      <td>15.23</td>\n",
       "      <td>1</td>\n",
       "      <td>0.53</td>\n",
       "      <td>0</td>\n",
       "      <td>2</td>\n",
       "    </tr>\n",
       "    <tr>\n",
       "      <th>4</th>\n",
       "      <td>24</td>\n",
       "      <td>54400</td>\n",
       "      <td>1</td>\n",
       "      <td>8.0</td>\n",
       "      <td>3</td>\n",
       "      <td>35000</td>\n",
       "      <td>14.27</td>\n",
       "      <td>1</td>\n",
       "      <td>0.55</td>\n",
       "      <td>1</td>\n",
       "      <td>4</td>\n",
       "    </tr>\n",
       "  </tbody>\n",
       "</table>\n",
       "</div>"
      ],
      "text/plain": [
       "   person_age  person_income  person_home_ownership  person_emp_length  \\\n",
       "0          22          59000                      1              123.0   \n",
       "1          21           9600                      2                5.0   \n",
       "2          25           9600                      3                1.0   \n",
       "3          23          65500                      1                4.0   \n",
       "4          24          54400                      1                8.0   \n",
       "\n",
       "   loan_intent  loan_amnt  loan_int_rate  loan_status  loan_percent_income  \\\n",
       "0            1      35000          16.02            1                 0.59   \n",
       "1            2       1000          11.14            0                 0.10   \n",
       "2            3       5500          12.87            1                 0.57   \n",
       "3            3      35000          15.23            1                 0.53   \n",
       "4            3      35000          14.27            1                 0.55   \n",
       "\n",
       "   cb_person_default_on_file  cb_person_cred_hist_length  \n",
       "0                          1                           3  \n",
       "1                          0                           2  \n",
       "2                          0                           3  \n",
       "3                          0                           2  \n",
       "4                          1                           4  "
      ]
     },
     "execution_count": 84,
     "metadata": {},
     "output_type": "execute_result"
    }
   ],
   "source": [
    "#Display few rows of transformed dataset\n",
    "df.head()"
   ]
  },
  {
   "cell_type": "markdown",
   "id": "50602452-9b09-46c1-8836-d56475f4f032",
   "metadata": {},
   "source": [
    "**<h3> Feature and Target Variables</h3>**"
   ]
  },
  {
   "cell_type": "code",
   "execution_count": 85,
   "id": "c0b48f13-8131-4594-8a36-b99e9c5eb75a",
   "metadata": {
    "tags": []
   },
   "outputs": [],
   "source": [
    "#Define feature and target variable\n",
    "X = df.drop('loan_status', axis=1).values\n",
    "y = df['loan_status'].values\n",
    "\n"
   ]
  },
  {
   "cell_type": "markdown",
   "id": "a1b5500f-488f-4b5d-8ef9-e3f9d12a38d1",
   "metadata": {},
   "source": [
    "**<h3>Train-Test Split</h3>**"
   ]
  },
  {
   "cell_type": "code",
   "execution_count": 86,
   "id": "92d2b1bd-d182-4d35-af86-3856bb723111",
   "metadata": {
    "tags": []
   },
   "outputs": [],
   "source": [
    "# Split the data into training and testing sets\n",
    "X_train, X_test, y_train, y_test= train_test_split(X,y, test_size=0.2, random_state=21)\n"
   ]
  },
  {
   "cell_type": "markdown",
   "id": "1469faa3-270f-4ad0-a40b-67af4e7e2e5c",
   "metadata": {},
   "source": [
    "**<h3>Data Standardization</h3>**"
   ]
  },
  {
   "cell_type": "code",
   "execution_count": 88,
   "id": "1f3e40ff-4764-4a68-8c5f-2dc45984ab6a",
   "metadata": {
    "tags": []
   },
   "outputs": [],
   "source": [
    "# Standardize the feature variables\n",
    "scale = StandardScaler()\n",
    "scale_train = scale.fit_transform(X_train)\n",
    "scale_test = scale.transform(X_test)\n"
   ]
  },
  {
   "cell_type": "markdown",
   "id": "81e7fff4-fcdc-4392-9a44-d5aefac16c45",
   "metadata": {},
   "source": [
    "**<h3>Initialize Classifiers</h3>**"
   ]
  },
  {
   "cell_type": "code",
   "execution_count": 89,
   "id": "be663adf-7868-4c6c-b37c-025d62c4b777",
   "metadata": {
    "tags": []
   },
   "outputs": [],
   "source": [
    "\n",
    "# Initialize classifiers\n",
    "lg = LogisticRegression()\n",
    "dt = DecisionTreeClassifier()\n",
    "knn = KNeighborsClassifier(n_neighbors = 1)\n",
    "xgb = xgb.XGBClassifier()\n",
    "rnn = RandomForestClassifier()\n",
    "\n",
    " #Create a list of classifiers for the Voting Classifier\n",
    "classifiers = [('Logistic Regression', lg), ('Decision Tree Classifier', dt), ('KNeighbor Classifier', knn), ('XGBoost', xgb), ('Random Forest Classifer', rnn)]\n"
   ]
  },
  {
   "cell_type": "markdown",
   "id": "8d0ada27-3340-4dc2-84da-5ca811c59762",
   "metadata": {},
   "source": [
    "**<h3>Voting Classifier</h3>**"
   ]
  },
  {
   "cell_type": "code",
   "execution_count": 90,
   "id": "cde0eb70-9d0b-4aee-8187-26418badf404",
   "metadata": {
    "tags": []
   },
   "outputs": [],
   "source": [
    "#instantite Voting Classifier, the algorithm that defines the final predictions from all the models\n",
    "\n",
    "vc = VotingClassifier(estimators = classifiers)\n",
    "\n",
    "#fit model\n",
    "vc.fit(scale_train, y_train)\n",
    "\n",
    "#make final predictions\n",
    "vpred = vc.predict(scale_test)"
   ]
  },
  {
   "cell_type": "markdown",
   "id": "c43ec8a4-9c99-46f9-887d-14ddb9965b05",
   "metadata": {},
   "source": [
    "**<h3>Model Evaluation</h3>**"
   ]
  },
  {
   "cell_type": "code",
   "execution_count": 92,
   "id": "5a6d5905-89e0-4801-9c4b-8c47247949e4",
   "metadata": {
    "tags": []
   },
   "outputs": [
    {
     "name": "stdout",
     "output_type": "stream",
     "text": [
      "Voting Classifier Accuracy: 0.9179070124290317\n"
     ]
    }
   ],
   "source": [
    "# Evaluate Voting Classifier accuracy\n",
    "vaccuracy = accuracy_score(vpred, y_test)\n",
    "\n",
    "print(\"Voting Classifier Accuracy:\", vaccuracy)\n",
    "\n"
   ]
  },
  {
   "cell_type": "code",
   "execution_count": 55,
   "id": "27f538f7-f216-418e-8bfa-fc5eca9b0c94",
   "metadata": {
    "tags": []
   },
   "outputs": [
    {
     "name": "stdout",
     "output_type": "stream",
     "text": [
      "              precision    recall  f1-score   support\n",
      "\n",
      "           0       0.99      0.92      0.95      5482\n",
      "           1       0.68      0.93      0.78      1035\n",
      "\n",
      "    accuracy                           0.92      6517\n",
      "   macro avg       0.83      0.92      0.87      6517\n",
      "weighted avg       0.94      0.92      0.92      6517\n",
      "\n"
     ]
    }
   ],
   "source": [
    "\n",
    "# Print the classification report for the Voting Classifier\n",
    "evaluation_report = classification_report(vpred, y_test)\n",
    "print(evaluation_report)"
   ]
  },
  {
   "cell_type": "markdown",
   "id": "9094d9b4-06aa-4ac5-b0ac-36fe5a45f05d",
   "metadata": {},
   "source": [
    "**<h3>Checle For Class Imbalance</h3>**"
   ]
  },
  {
   "cell_type": "code",
   "execution_count": 56,
   "id": "7b9094ce-a8f9-4523-a003-79d5fdb6bb1c",
   "metadata": {
    "tags": []
   },
   "outputs": [
    {
     "name": "stdout",
     "output_type": "stream",
     "text": [
      "Class Frequencies\n",
      "0    0.781836\n",
      "1    0.218164\n",
      "Name: loan_status, dtype: float64\n"
     ]
    }
   ],
   "source": [
    "# Check for class imbalance\n",
    "def check_class_imbalance(data, column):\n",
    "    class_count = data[column].value_counts()\n",
    "    class_frequencies = class_count / class_count.sum()\n",
    "    print(\"Class Frequencies\")\n",
    "    print(class_frequencies)\n",
    "\n",
    "check_class_imbalance(df, 'loan_status')"
   ]
  },
  {
   "cell_type": "markdown",
   "id": "740d87e1-722f-4388-bf20-8563ca4c89eb",
   "metadata": {},
   "source": [
    "**<h3>Handle Class Imbalance</h3>**"
   ]
  },
  {
   "cell_type": "code",
   "execution_count": 57,
   "id": "0b1b12c6-4ec2-4ada-b5f7-38ad9834fcbb",
   "metadata": {
    "tags": []
   },
   "outputs": [
    {
     "name": "stdout",
     "output_type": "stream",
     "text": [
      "              precision    recall  f1-score   support\n",
      "\n",
      "           0       0.96      0.92      0.94      5317\n",
      "           1       0.92      0.96      0.94      4873\n",
      "\n",
      "    accuracy                           0.94     10190\n",
      "   macro avg       0.94      0.94      0.94     10190\n",
      "weighted avg       0.94      0.94      0.94     10190\n",
      "\n"
     ]
    }
   ],
   "source": [
    "\n",
    "# Handle class imbalance using SMOTE\n",
    "from imblearn.over_sampling import SMOTE\n",
    "\n",
    "smote =SMOTE(random_state=42)\n",
    "X_resampled, y_resampled = smote.fit_resample(X,y)\n",
    "\n",
    "# Split the resampled data into training and testing sets\n",
    "X_train, X_test, y_train, y_test = train_test_split(X_resampled, y_resampled, test_size=0.2, random_state=5)\n",
    "\n",
    "# Standardize the resampled feature variables\n",
    "X_train_transform = scale.fit_transform(X_train)\n",
    "X_test_transform = scale.transform(X_test)\n",
    "\n",
    "# Fit the Voting Classifier model on the resampled data\n",
    "vc.fit(X_train_transform, y_train)\n",
    "vpred_2 = vc.predict(X_test_transform)\n",
    "\n",
    "# Print the classification report for the Voting Classifier on resampled data\n",
    "print(classification_report(vpred_2, y_test))\n",
    "\n"
   ]
  },
  {
   "cell_type": "markdown",
   "id": "7b14fa0d-812a-45cc-b4ab-76ff60b99a6e",
   "metadata": {},
   "source": [
    "**<h3>Cross Validation</h3>**\n"
   ]
  },
  {
   "cell_type": "code",
   "execution_count": 142,
   "id": "8275977a-a52b-4e3f-8ec1-f66ca57022b1",
   "metadata": {
    "tags": []
   },
   "outputs": [
    {
     "name": "stdout",
     "output_type": "stream",
     "text": [
      "Cross-validation scores: [0.937684   0.94000736 0.93681757 0.93730831 0.93914857]\n",
      "Mean CV score: 0.9381931619677605\n"
     ]
    }
   ],
   "source": [
    "\n",
    "# Perform cross-validation\n",
    "cv_scores = cross_val_score(vc, X_train_transform, y_train, cv=5)  # You can adjust the number of folds (cv) as needed\n",
    "\n",
    "# Print the cross-validation scores\n",
    "print(\"Cross-validation scores:\", cv_scores)\n",
    "print(\"Mean CV score:\", cv_scores.mean())"
   ]
  },
  {
   "cell_type": "code",
   "execution_count": null,
   "id": "29cda5e1-01c5-4170-b584-1931f6015c88",
   "metadata": {},
   "outputs": [],
   "source": []
  }
 ],
 "metadata": {
  "kernelspec": {
   "display_name": "Python 3 (ipykernel)",
   "language": "python",
   "name": "python3"
  },
  "language_info": {
   "codemirror_mode": {
    "name": "ipython",
    "version": 3
   },
   "file_extension": ".py",
   "mimetype": "text/x-python",
   "name": "python",
   "nbconvert_exporter": "python",
   "pygments_lexer": "ipython3",
   "version": "3.11.4"
  }
 },
 "nbformat": 4,
 "nbformat_minor": 5
}
